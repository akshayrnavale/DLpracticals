{
  "nbformat": 4,
  "nbformat_minor": 0,
  "metadata": {
    "colab": {
      "provenance": []
    },
    "kernelspec": {
      "name": "python3",
      "display_name": "Python 3"
    },
    "language_info": {
      "name": "python"
    }
  },
  "cells": [
    {
      "cell_type": "code",
      "execution_count": null,
      "metadata": {
        "id": "a-takvsTo1Mm"
      },
      "outputs": [],
      "source": [
        "import matplotlib.pyplot as plt\n",
        "import seaborn as sns\n",
        "import matplotlib as mpl\n",
        "import matplotlib.pylab as pylab\n",
        "import numpy as np\n",
        "%matplotlib inline"
      ]
    },
    {
      "cell_type": "code",
      "source": [
        "#Data Prepration\n",
        "import re"
      ],
      "metadata": {
        "id": "p8qzWmX4pGsR"
      },
      "execution_count": null,
      "outputs": []
    },
    {
      "cell_type": "code",
      "source": [
        "sentences =\"\"\"We are about to study the idea of a computation\n",
        "al process.\n",
        "Computational processes are abstract beings that i\n",
        "nhabit computers.\n",
        "As they evolve, processes manipulate other abstrac\n",
        "t things called data.\n",
        "The evolution of a process is directed by a patter\n",
        "n of rules\n",
        "called a program. People create programs to direct\n",
        "processes. In effect,\n",
        "we conjure the spirits of the computer with our sp\n",
        "ells.\"\"\""
      ],
      "metadata": {
        "id": "v17gs2oypPME"
      },
      "execution_count": null,
      "outputs": []
    },
    {
      "cell_type": "code",
      "source": [
        "sentences = re.sub('[^A-Za-z0-9]+',' ', sentences)"
      ],
      "metadata": {
        "id": "yln11kgOpcS6"
      },
      "execution_count": null,
      "outputs": []
    },
    {
      "cell_type": "code",
      "source": [
        "sentences = re.sub(r'(?:^| )\\w(?:$| )',' ', sentences).strip()"
      ],
      "metadata": {
        "id": "ZV1nq86_4uIa"
      },
      "execution_count": null,
      "outputs": []
    },
    {
      "cell_type": "code",
      "source": [
        "sentences = sentences.lower()"
      ],
      "metadata": {
        "id": "1QPMfMFc463T"
      },
      "execution_count": null,
      "outputs": []
    },
    {
      "cell_type": "code",
      "source": [
        "words = sentences.split()\n",
        "vocab =set(words)"
      ],
      "metadata": {
        "id": "tieOHq5C5DJG"
      },
      "execution_count": null,
      "outputs": []
    },
    {
      "cell_type": "code",
      "source": [
        "vocab_size =len(vocab)\n",
        "embed_dim =10\n",
        "context_size =2"
      ],
      "metadata": {
        "id": "F5rFFAr15UCO"
      },
      "execution_count": null,
      "outputs": []
    },
    {
      "cell_type": "code",
      "source": [
        "word_to_ix = {word: i for i, word\n",
        "in\n",
        "enumerate\n",
        "(vocab)}\n",
        "ix_to_word = {i: word\n",
        "for\n",
        "i, word\n",
        "in\n",
        "enumerate\n",
        "(vocab)}"
      ],
      "metadata": {
        "id": "OuxiY2Fk6DeW"
      },
      "execution_count": null,
      "outputs": []
    },
    {
      "cell_type": "code",
      "source": [
        "# data - [(context), target]\n",
        "data = []\n",
        "for i in range(2,len(words) -2):\n",
        "  context = [words[i - 2], words[i - 1], words[i + 1 ], words[i + 2]]\n",
        "  target = words[i]\n",
        "  data.append((context, target))\n",
        "print(data[:5])"
      ],
      "metadata": {
        "colab": {
          "base_uri": "https://localhost:8080/"
        },
        "id": "hVWEl3vjHClC",
        "outputId": "16a2df3e-99ed-4899-e264-ba80edcb4a80"
      },
      "execution_count": null,
      "outputs": [
        {
          "output_type": "stream",
          "name": "stdout",
          "text": [
            "[(['we', 'are', 'to', 'study'], 'about'), (['are', 'about', 'study', 'the'], 'to'), (['about', 'to', 'the', 'idea'], 'study'), (['to', 'study', 'idea', 'of'], 'the'), (['study', 'the', 'of', 'computation'], 'idea')]\n"
          ]
        }
      ]
    },
    {
      "cell_type": "code",
      "source": [
        "embeddings = np.random.random_sample((vocab_size,embed_dim))"
      ],
      "metadata": {
        "id": "ibmKAeW9PvbE"
      },
      "execution_count": null,
      "outputs": []
    },
    {
      "cell_type": "code",
      "source": [
        "def linear( m , theta):\n",
        "    w = theta\n",
        "    return m.dot(w)"
      ],
      "metadata": {
        "id": "E7gCsl2OP4Yd"
      },
      "execution_count": null,
      "outputs": []
    },
    {
      "cell_type": "code",
      "source": [
        "def log_softmax ( x ):\n",
        "  e_x = np.exp(x - np.max(x))\n",
        "  return np.log(e_x / e_x.sum())"
      ],
      "metadata": {
        "id": "CjOZ6Cz5QOl5"
      },
      "execution_count": null,
      "outputs": []
    },
    {
      "cell_type": "code",
      "source": [
        "def NLLLoss(logs,targets):\n",
        "  out = logs[range(len(targets)), targets]\n",
        "  return-out.sum()/len(out)"
      ],
      "metadata": {
        "id": "4b4U8YLcQq5n"
      },
      "execution_count": null,
      "outputs": []
    },
    {
      "cell_type": "code",
      "source": [
        "def log_softmax_crossentropy_with_logits(logits,target):\n",
        "  out = np.zeros_like(logits)\n",
        "  out[np.arange(len(logits)),target] =1\n",
        "  softmax = np.exp(logits) / np.exp(logits).sum(axis=-1,keepdims=True)\n",
        "  return (- out + softmax) / logits.shape[0]"
      ],
      "metadata": {
        "id": "bWfn5PVeRWQg"
      },
      "execution_count": null,
      "outputs": []
    },
    {
      "cell_type": "code",
      "source": [
        "def forward(context_idxs,theta):\n",
        "  m = embeddings[context_idxs].reshape(1,-1)\n",
        "  n = linear(m, theta)\n",
        "  o = log_softmax(n)\n",
        "  return m, n, o"
      ],
      "metadata": {
        "id": "KpdP9iTPSBKc"
      },
      "execution_count": null,
      "outputs": []
    },
    {
      "cell_type": "code",
      "source": [
        "def backward(preds,theta,target_idxs):\n",
        "  m, n, o = preds\n",
        "  dlog = log_softmax_crossentropy_with_logits(n,target_idxs)\n",
        "  dw = m.T.dot(dlog)\n",
        "  return dw"
      ],
      "metadata": {
        "id": "3IwcxUsXSgLL"
      },
      "execution_count": null,
      "outputs": []
    },
    {
      "cell_type": "code",
      "source": [
        "def optimize(theta,grad,lr=0.03):\n",
        "  theta -= grad * lr\n",
        "  return theta"
      ],
      "metadata": {
        "id": "Q1zRSoTVVlln"
      },
      "execution_count": 23,
      "outputs": []
    },
    {
      "cell_type": "code",
      "source": [
        "#Genrate training data\n",
        "theta = np.random.uniform(-1,1, (2* context_size * embed_dim, vocab_size))"
      ],
      "metadata": {
        "id": "8TLq-PbhWB0A"
      },
      "execution_count": 24,
      "outputs": []
    },
    {
      "cell_type": "code",
      "source": [
        "epoch_losses = {}\n",
        "for epoch in range(80):\n",
        "  losses = []\n",
        "  for context, target in data:\n",
        "    context_idxs = np.array([word_to_ix[w] for w in context])\n",
        "    preds = forward(context_idxs, theta)\n",
        "    target_idxs = np.array([word_to_ix[target]])\n",
        "    loss = NLLLoss(preds[-1], target_idxs)\n",
        "    losses.append(loss)\n",
        "    grad = backward(preds, theta, target_idxs)\n",
        "    theta = optimize(theta, grad, lr=0.03)\n",
        "    epoch_losses[epoch] = losses"
      ],
      "metadata": {
        "id": "-hdp1vS9WOeK"
      },
      "execution_count": 26,
      "outputs": []
    },
    {
      "cell_type": "code",
      "source": [
        "ix = np.arange(0,80)\n",
        "fig = plt.figure()\n",
        "fig.suptitle('Epoch/Losses', fontsize=20)\n",
        "plt.plot(ix,[epoch_losses[i][0]for i in ix])\n",
        "plt.xlabel('Epochs', fontsize=12)\n",
        "plt.ylabel('Losses', fontsize=12)"
      ],
      "metadata": {
        "colab": {
          "base_uri": "https://localhost:8080/",
          "height": 518
        },
        "id": "QVZb7_4lW2aQ",
        "outputId": "40609fdb-9fb9-459f-d3ca-3e887121eb87"
      },
      "execution_count": 27,
      "outputs": [
        {
          "output_type": "execute_result",
          "data": {
            "text/plain": [
              "Text(0, 0.5, 'Losses')"
            ]
          },
          "metadata": {},
          "execution_count": 27
        },
        {
          "output_type": "display_data",
          "data": {
            "text/plain": [
              "<Figure size 640x480 with 1 Axes>"
            ],
            "image/png": "[encoded data removed]"
          },
          "metadata": {}
        }
      ]
    },
    {
      "cell_type": "code",
      "source": [
        "def predict(words):\n",
        "  context_idxs = np.array([word_to_ix[w] for w in words])\n",
        "  preds = forward(context_idxs, theta)\n",
        "  word = ix_to_word[np.argmax(preds[-1 ])]\n",
        "  return word"
      ],
      "metadata": {
        "id": "C4h5K_OPbFc-"
      },
      "execution_count": 28,
      "outputs": []
    },
    {
      "cell_type": "code",
      "source": [
        "# (['we', 'are', 'to', 'study'], 'about')\n",
        "predict(['we','are','to','study'])"
      ],
      "metadata": {
        "colab": {
          "base_uri": "https://localhost:8080/",
          "height": 36
        },
        "id": "7ST2zKLnbcKw",
        "outputId": "2c178a30-760e-42d9-81e6-48cfc5e9b4ae"
      },
      "execution_count": 29,
      "outputs": [
        {
          "output_type": "execute_result",
          "data": {
            "text/plain": [
              "'about'"
            ],
            "application/vnd.google.colaboratory.intrinsic+json": {
              "type": "string"
            }
          },
          "metadata": {},
          "execution_count": 29
        }
      ]
    },
    {
      "cell_type": "code",
      "source": [
        "def accuracy():\n",
        "  wrong = 0\n",
        "  for context, target in data:\n",
        "    if(predict(context) != target):\n",
        "      wrong += 1\n",
        "  return (1 - (wrong / len(data)))"
      ],
      "metadata": {
        "id": "z7oFW2d8bvjQ"
      },
      "execution_count": 31,
      "outputs": []
    },
    {
      "cell_type": "code",
      "source": [
        "accuracy()"
      ],
      "metadata": {
        "colab": {
          "base_uri": "https://localhost:8080/"
        },
        "id": "xDFQIYxLcHGp",
        "outputId": "a7b6fd7d-17c4-4f58-f403-f6625315a3ab"
      },
      "execution_count": 32,
      "outputs": [
        {
          "output_type": "execute_result",
          "data": {
            "text/plain": [
              "1.0"
            ]
          },
          "metadata": {},
          "execution_count": 32
        }
      ]
    },
    {
      "cell_type": "code",
      "source": [
        "predict(['processes', 'manipulate', 'things', 'study'])"
      ],
      "metadata": {
        "colab": {
          "base_uri": "https://localhost:8080/",
          "height": 36
        },
        "id": "1b4OTr7dcJVc",
        "outputId": "702f7dde-792c-465e-9011-ce9c53513d12"
      },
      "execution_count": 33,
      "outputs": [
        {
          "output_type": "execute_result",
          "data": {
            "text/plain": [
              "'other'"
            ],
            "application/vnd.google.colaboratory.intrinsic+json": {
              "type": "string"
            }
          },
          "metadata": {},
          "execution_count": 33
        }
      ]
    }
  ]
}